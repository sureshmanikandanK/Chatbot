{
 "cells": [
  {
   "cell_type": "markdown",
   "metadata": {},
   "source": [
    "Modern AI Pro: Building Auth Levels on RAG Queries"
   ]
  },
  {
   "cell_type": "code",
   "execution_count": 105,
   "metadata": {},
   "outputs": [],
   "source": []
  },
  {
   "cell_type": "code",
   "execution_count": 106,
   "metadata": {},
   "outputs": [],
   "source": [
    "# Sample documents for XYZ Company\n",
    "documents = [\n",
    "    \"XYZ Company is a leading provider of innovative technology solutions with a focus on AI and ML. The company operates in over 30 countries and employs over 5,000 professionals.\",\n",
    "    \"Internally, XYZ Company emphasizes employee development, with over 20% of the workforce participating in ongoing training each year. Recent internal reports also highlight a push towards sustainability goals.\",\n",
    "    \"XYZ is focusing on reducing its carbon footprint by 30% over the next five years as part of its sustainability push. This is a confidential strategy document outlining key initiatives.\",\n",
    "    \"Office server password is highly secured and that is Password@133\"\n",
    "]\n",
    "\n",
    "# Define metadata for each document (auth_level, category, year)\n",
    "metadata = [\n",
    "    {\"auth_level\": 1, \"category\": \"Public Summary\", \"year\": \"2023\"},\n",
    "    {\"auth_level\": 2, \"category\": \"Internal Report\", \"year\": \"2023\"},\n",
    "    {\"auth_level\": 3, \"category\": \"Confidential Strategy\", \"year\": \"2023\"},\n",
    "    {\"auth_level\": 3, \"category\": \"Confidential Strategy\", \"year\": \"2023\"}\n",
    "]\n"
   ]
  },
  {
   "cell_type": "code",
   "execution_count": null,
   "metadata": {},
   "outputs": [
    {
     "name": "stdout",
     "output_type": "stream",
     "text": [
      "<class 'numpy.ndarray'>\n"
     ]
    }
   ],
   "source": [
    "documents_vectors = model.encode(documents)\n",
    "# print(documents_vectors)\n",
    "# print(type(documents_vectors))\n",
    "documents_vectors = np.array(documents_vectors).astype('float32')"
   ]
  },
  {
   "cell_type": "code",
   "execution_count": 108,
   "metadata": {},
   "outputs": [],
   "source": [
    "index = faiss.IndexFlatL2(documents_vectors.shape[1])\n",
    "index.add(documents_vectors)"
   ]
  },
  {
   "cell_type": "code",
   "execution_count": 109,
   "metadata": {},
   "outputs": [],
   "source": [
    "def vector_search_with_rbac(query_text, user_auth_level, k=3):\n",
    "    if not isinstance(user_auth_level, int) or user_auth_level < 0:\n",
    "        raise ValueError(\"Invalid user_auth_level. Must be Integer or it should greater than zero\")\n",
    "    \n",
    "    query_vector = model.encode([query_text]).astype('float32')\n",
    "\n",
    "    D, I = index.search(query_vector, k)\n",
    "\n",
    "    results = []\n",
    "    for i, idx in enumerate(I[0]):\n",
    "        if metadata[idx][\"auth_level\"]<= user_auth_level:\n",
    "            results.append({\n",
    "                \"documents\":documents[idx],\n",
    "                \"metadata\":metadata[idx],\n",
    "                # \"distance\":D[0][i]\n",
    "            })\n",
    "    return results"
   ]
  },
  {
   "cell_type": "code",
   "execution_count": 110,
   "metadata": {},
   "outputs": [
    {
     "name": "stdout",
     "output_type": "stream",
     "text": [
      "Results for User A (auth_level 1): [{'documents': 'XYZ Company is a leading provider of innovative technology solutions with a focus on AI and ML. The company operates in over 30 countries and employs over 5,000 professionals.', 'metadata': {'auth_level': 1, 'category': 'Public Summary', 'year': '2023'}}]\n",
      "Results for User B (auth_level 2): [{'documents': 'XYZ Company is a leading provider of innovative technology solutions with a focus on AI and ML. The company operates in over 30 countries and employs over 5,000 professionals.', 'metadata': {'auth_level': 1, 'category': 'Public Summary', 'year': '2023'}}, {'documents': 'Internally, XYZ Company emphasizes employee development, with over 20% of the workforce participating in ongoing training each year. Recent internal reports also highlight a push towards sustainability goals.', 'metadata': {'auth_level': 2, 'category': 'Internal Report', 'year': '2023'}}]\n",
      "Results for User C (auth_level 3): [{'documents': 'Office server password is highly secured and that is Password@133', 'metadata': {'auth_level': 3, 'category': 'Confidential Strategy', 'year': '2023'}}, {'documents': 'XYZ Company is a leading provider of innovative technology solutions with a focus on AI and ML. The company operates in over 30 countries and employs over 5,000 professionals.', 'metadata': {'auth_level': 1, 'category': 'Public Summary', 'year': '2023'}}, {'documents': 'XYZ is focusing on reducing its carbon footprint by 30% over the next five years as part of its sustainability push. This is a confidential strategy document outlining key initiatives.', 'metadata': {'auth_level': 3, 'category': 'Confidential Strategy', 'year': '2023'}}, {'documents': 'Internally, XYZ Company emphasizes employee development, with over 20% of the workforce participating in ongoing training each year. Recent internal reports also highlight a push towards sustainability goals.', 'metadata': {'auth_level': 2, 'category': 'Internal Report', 'year': '2023'}}]\n"
     ]
    }
   ],
   "source": [
    "# Example usage for a public user (auth_level 1)\n",
    "query_text = \"Comapny server password\"\n",
    "user_auth_level = 1  # Public user\n",
    "results = vector_search_with_rbac(query_text, user_auth_level)\n",
    "print(\"Results for User A (auth_level 1):\", results)\n",
    "\n",
    "# Example usage for an internal user (auth_level 2)\n",
    "user_auth_level = 2  # Internal user\n",
    "results = vector_search_with_rbac(query_text, user_auth_level)\n",
    "print(\"Results for User B (auth_level 2):\", results)\n",
    "\n",
    "# Example usage for a confidential user (auth_level 3)\n",
    "user_auth_level = 3  # Confidential user\n",
    "results = vector_search_with_rbac(query_text, user_auth_level)\n",
    "print(\"Results for User C (auth_level 3):\", results)\n"
   ]
  }
 ],
 "metadata": {
  "kernelspec": {
   "display_name": "chatbot_env",
   "language": "python",
   "name": "python3"
  },
  "language_info": {
   "codemirror_mode": {
    "name": "ipython",
    "version": 3
   },
   "file_extension": ".py",
   "mimetype": "text/x-python",
   "name": "python",
   "nbconvert_exporter": "python",
   "pygments_lexer": "ipython3",
   "version": "3.11.5"
  }
 },
 "nbformat": 4,
 "nbformat_minor": 2
}
